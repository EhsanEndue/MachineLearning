{
 "cells": [
  {
   "cell_type": "code",
   "execution_count": 1,
   "metadata": {},
   "outputs": [],
   "source": [
    "import numpy as np"
   ]
  },
  {
   "cell_type": "code",
   "execution_count": 12,
   "metadata": {},
   "outputs": [
    {
     "data": {
      "text/plain": [
       "array([[   1,    2,    3, 4000,    5],\n",
       "       [  10,    9,    8,    7,    6],\n",
       "       [  20,   25,   21,   22,   23],\n",
       "       [   8,    2,    3,    1,    9]])"
      ]
     },
     "execution_count": 12,
     "metadata": {},
     "output_type": "execute_result"
    }
   ],
   "source": [
    "X = np.array([[1,2,3,4000,5],[10,9,8,7,6],[20,25,21,22,23],[8,2,3,1,9]])\n",
    "X"
   ]
  },
  {
   "cell_type": "code",
   "execution_count": 13,
   "metadata": {},
   "outputs": [
    {
     "data": {
      "text/plain": [
       "array([[     565,      608,      527,     4518,      597],\n",
       "       [     608,      714,      609,     8615,      657],\n",
       "       [     527,      609,      523,    12521,      573],\n",
       "       [    4518,     8615,    12521, 16000534,    20557],\n",
       "       [     597,      657,      573,    20557,      671]])"
      ]
     },
     "execution_count": 13,
     "metadata": {},
     "output_type": "execute_result"
    }
   ],
   "source": [
    "XX = X.T.dot(X)\n",
    "XX\n"
   ]
  },
  {
   "cell_type": "code",
   "execution_count": 14,
   "metadata": {},
   "outputs": [
    {
     "data": {
      "text/plain": [
       "2.158524988930284"
      ]
     },
     "execution_count": 14,
     "metadata": {},
     "output_type": "execute_result"
    }
   ],
   "source": [
    "det_X =  np.linalg.det(XX)\n",
    "det_X"
   ]
  },
  {
   "cell_type": "code",
   "execution_count": 15,
   "metadata": {},
   "outputs": [
    {
     "data": {
      "text/plain": [
       "array([[ 1.75756451e+11,  6.65878439e+11, -9.87895336e+11,\n",
       "         3.32717503e+08,  2.50605334e+10],\n",
       "       [ 6.65878439e+11,  2.52277564e+12, -3.74278269e+12,\n",
       "         1.26054782e+09,  9.49454130e+10],\n",
       "       [-9.87895336e+11, -3.74278269e+12,  5.55278163e+12,\n",
       "        -1.87014512e+09, -1.40860742e+11],\n",
       "       [ 3.32717503e+08,  1.26054782e+09, -1.87014512e+09,\n",
       "         6.29854186e+05,  4.74410927e+07],\n",
       "       [ 2.50605334e+10,  9.49454130e+10, -1.40860742e+11,\n",
       "         4.74410927e+07,  3.57329890e+09]])"
      ]
     },
     "execution_count": 15,
     "metadata": {},
     "output_type": "execute_result"
    }
   ],
   "source": [
    "X_inv = np.linalg.inv(XX)\n",
    "X_inv"
   ]
  },
  {
   "cell_type": "code",
   "execution_count": 16,
   "metadata": {},
   "outputs": [
    {
     "data": {
      "text/plain": [
       "array([[ 1.90820312e+00,  1.14648438e+00,  1.00976562e+00,\n",
       "        -2.54625000e+02,  7.65625000e-01],\n",
       "       [-4.84375000e-01,  4.45312500e-01, -1.79687500e-01,\n",
       "        -1.02700000e+03, -1.92968750e+00],\n",
       "       [ 7.96875000e-01,  1.87500000e-01,  4.84375000e-01,\n",
       "         1.50700000e+03,  1.81250000e+00],\n",
       "       [-8.77380371e-05, -8.01086426e-05, -3.81469727e-06,\n",
       "         4.95361328e-01, -7.09533691e-04],\n",
       "       [-4.15039062e-03, -1.31835938e-02,  8.78906250e-03,\n",
       "        -3.81406250e+01,  9.46777344e-01]])"
      ]
     },
     "execution_count": 16,
     "metadata": {},
     "output_type": "execute_result"
    }
   ],
   "source": [
    "unic = X_inv.dot(XX)\n",
    "unic"
   ]
  },
  {
   "cell_type": "code",
   "execution_count": null,
   "metadata": {},
   "outputs": [],
   "source": []
  }
 ],
 "metadata": {
  "kernelspec": {
   "display_name": "Python 3",
   "language": "python",
   "name": "python3"
  },
  "language_info": {
   "codemirror_mode": {
    "name": "ipython",
    "version": 3
   },
   "file_extension": ".py",
   "mimetype": "text/x-python",
   "name": "python",
   "nbconvert_exporter": "python",
   "pygments_lexer": "ipython3",
   "version": "3.7.6"
  }
 },
 "nbformat": 4,
 "nbformat_minor": 4
}
